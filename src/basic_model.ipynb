{
 "cells": [
  {
   "cell_type": "code",
   "execution_count": 23,
   "metadata": {},
   "outputs": [],
   "source": [
    "#Template Project to build off of\n",
    "import cv2 as cv2\n",
    "import numpy as np\n",
    "import tensorflow as tf\n",
    "from tensorflow import keras\n",
    "import os"
   ]
  },
  {
   "cell_type": "code",
   "execution_count": 24,
   "metadata": {},
   "outputs": [],
   "source": [
    "IMG_SIZE = 256\n",
    "LABELS = [\"FIST\", \"HAND\"]"
   ]
  },
  {
   "cell_type": "code",
   "execution_count": 18,
   "metadata": {},
   "outputs": [],
   "source": [
    "def crop_center(frame):\n",
    "    y, x = frame.shape[0:2]\n",
    "    min_dimension = min(y, x)\n",
    "    start_x = x//2 - (min_dimension//2)\n",
    "    start_y = y//2 - (min_dimension//2)\n",
    "    return frame[start_y:start_y+min_dimension,start_x:start_x+min_dimension]"
   ]
  },
  {
   "cell_type": "code",
   "execution_count": 20,
   "metadata": {},
   "outputs": [],
   "source": [
    "#From a video file (.mp4) extract every n-th frame and return them as a numpy array\n",
    "#This will allow us to extract frames from a video and use them to train our model\n",
    "#Every frame would be way too much data but we can test and hone in exactly how many \n",
    "#frames will be needed for a good model\n",
    "\n",
    "def load_video(video_file, max_frames, resize=(IMG_SIZE, IMG_SIZE), n=1):\n",
    "    video = cv2.VideoCapture(video_file)\n",
    "    frames = []\n",
    "    \n",
    "    try:\n",
    "        current_frame = 0\n",
    "        while(True):\n",
    "            ret,frame = video.read()\n",
    "            if not ret:\n",
    "                break\n",
    "            if current_frame % n == 0:\n",
    "                frame = crop_center(frame)\n",
    "                frame = cv2.resize(frame, resize)\n",
    "                frame = frame[:, :, [2,1,0]]\n",
    "                frames.append(frame)\n",
    "\n",
    "            if len(frames) == max_frames:\n",
    "                break\n",
    "            current_frame += 1\n",
    "    finally:\n",
    "        video.release()\n",
    "    return np.array(frames)"
   ]
  },
  {
   "cell_type": "code",
   "execution_count": null,
   "metadata": {},
   "outputs": [],
   "source": [
    "#A feature extractor will allow us to extarct only the most important parts\n",
    "#of each frame and discard the rest. This will allow us to train our model\n",
    "#faster and more efficiently\n",
    "def create_feature_extractor():\n",
    "    feature_extractor = keras.applications.InceptionV3(\n",
    "        wights='imagenet',\n",
    "        include_top=False,\n",
    "        pooling=\"avg\",\n",
    "        input_shape=(IMG_SIZE, IMG_SIZE, 3)\n",
    "    )\n",
    "    pre_process_input = keras.applications.inception_v3.preprocess_input\n",
    "\n",
    "    inputs = keras.Input(shape=(IMG_SIZE, IMG_SIZE, 3))\n",
    "    preprocessed = pre_process_input(inputs)\n",
    "    outputs = feature_extractor(preprocessed)\n",
    "    return keras.Model(inputs, outputs, name=\"feature_extractor\")"
   ]
  },
  {
   "cell_type": "code",
   "execution_count": 25,
   "metadata": {},
   "outputs": [
    {
     "name": "stdout",
     "output_type": "stream",
     "text": [
      "['FIST', 'HAND']\n"
     ]
    }
   ],
   "source": [
    "label_processor = keras.layers.StringLookup(\n",
    "    num_oov_indices=0, vocabulary=np.unique(LABELS)\n",
    ")\n",
    "print(label_processor.get_vocabulary())"
   ]
  },
  {
   "cell_type": "code",
   "execution_count": 14,
   "metadata": {},
   "outputs": [],
   "source": [
    "# NEXT STEP: Create function using the above helper functions to load all the \n",
    "# video data that we plan to use, splitting them into training and validation sets\n",
    "# along with their labels\n",
    "# Then we can make a simple model to train on the data on, hopefully capable of \n",
    "# predicting the correct label for a given video (Fist or Hand)"
   ]
  }
 ],
 "metadata": {
  "kernelspec": {
   "display_name": "Python 3.9.3 64-bit",
   "language": "python",
   "name": "python3"
  },
  "language_info": {
   "name": "python",
   "version": "3.9.3"
  },
  "orig_nbformat": 4,
  "vscode": {
   "interpreter": {
    "hash": "11938c6bc6919ae2720b4d5011047913343b08a43b18698fd82dedb0d4417594"
   }
  }
 },
 "nbformat": 4,
 "nbformat_minor": 2
}
