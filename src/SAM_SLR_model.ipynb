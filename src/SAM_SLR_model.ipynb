{
 "cells": [
  {
   "cell_type": "code",
   "execution_count": null,
   "metadata": {},
   "outputs": [],
   "source": [
    "# Starting Sprint 5 we'll work here"
   ]
  }
 ],
 "metadata": {
  "kernelspec": {
   "display_name": "Python 3.10.8 64-bit (microsoft store)",
   "language": "python",
   "name": "python3"
  },
  "language_info": {
   "name": "python",
   "version": "3.10.8"
  },
  "orig_nbformat": 4,
  "vscode": {
   "interpreter": {
    "hash": "318b7bea8269a06a8703eeb4be4fb7883cebcdb17091a474ac9fb0578e50cf34"
   }
  }
 },
 "nbformat": 4,
 "nbformat_minor": 2
}
